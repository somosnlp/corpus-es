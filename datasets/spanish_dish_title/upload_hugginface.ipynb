{
 "cells": [
  {
   "cell_type": "code",
   "execution_count": 21,
   "metadata": {},
   "outputs": [],
   "source": [
    "from datasets import load_dataset, Image\n",
    "from datasets import DatasetDict\n",
    "dataset = load_dataset(\"csv\", data_files=\"dataset.csv\")"
   ]
  },
  {
   "cell_type": "code",
   "execution_count": 29,
   "metadata": {},
   "outputs": [
    {
     "data": {
      "application/vnd.jupyter.widget-view+json": {
       "model_id": "3103220ff4d24d5694a129bfb2349ef4",
       "version_major": 2,
       "version_minor": 0
      },
      "text/plain": [
       "VBox(children=(HTML(value='<center> <img\\nsrc=https://huggingface.co/front/assets/huggingface_logo-noborder.sv…"
      ]
     },
     "metadata": {},
     "output_type": "display_data"
    }
   ],
   "source": [
    "from huggingface_hub import login\n",
    "login()"
   ]
  },
  {
   "cell_type": "code",
   "execution_count": 24,
   "metadata": {},
   "outputs": [],
   "source": [
    "dataset = dataset.cast_column(\"image\", Image())"
   ]
  },
  {
   "cell_type": "code",
   "execution_count": 25,
   "metadata": {},
   "outputs": [],
   "source": [
    "train_testvalid  = dataset[\"train\"].train_test_split(test_size=0.2)\n",
    "test_valid  = train_testvalid [\"test\"].train_test_split(test_size=0.2)\n",
    "ds = DatasetDict({\n",
    "    'train': train_testvalid['train'],\n",
    "    'test': test_valid['test'],\n",
    "    'valid': test_valid['train']})"
   ]
  },
  {
   "cell_type": "code",
   "execution_count": 30,
   "metadata": {},
   "outputs": [
    {
     "name": "stderr",
     "output_type": "stream",
     "text": [
      "Map: 100%|██████████| 13170/13170 [00:05<00:00, 2297.54 examples/s]\n",
      "Creating parquet from Arrow format: 100%|██████████| 132/132 [00:00<00:00, 153.55ba/s]\n",
      "Pushing dataset shards to the dataset hub: 100%|██████████| 1/1 [00:11<00:00, 11.70s/it]\n",
      "Map: 100%|██████████| 659/659 [00:00<00:00, 2920.74 examples/s]\n",
      "Creating parquet from Arrow format: 100%|██████████| 7/7 [00:00<00:00, 167.03ba/s]\n",
      "Pushing dataset shards to the dataset hub: 100%|██████████| 1/1 [00:01<00:00,  1.57s/it]\n",
      "Map: 100%|██████████| 2634/2634 [00:01<00:00, 2519.60 examples/s]\n",
      "Creating parquet from Arrow format: 100%|██████████| 27/27 [00:00<00:00, 183.84ba/s]\n",
      "Pushing dataset shards to the dataset hub: 100%|██████████| 1/1 [00:03<00:00,  3.01s/it]\n",
      "Downloading metadata: 100%|██████████| 21.0/21.0 [00:00<?, ?B/s]\n"
     ]
    }
   ],
   "source": [
    "ds.push_to_hub(\"hacktoberfest-corpus-es/spanish_dish_title\")"
   ]
  }
 ],
 "metadata": {
  "kernelspec": {
   "display_name": "Python 3",
   "language": "python",
   "name": "python3"
  },
  "language_info": {
   "codemirror_mode": {
    "name": "ipython",
    "version": 3
   },
   "file_extension": ".py",
   "mimetype": "text/x-python",
   "name": "python",
   "nbconvert_exporter": "python",
   "pygments_lexer": "ipython3",
   "version": "3.10.5"
  }
 },
 "nbformat": 4,
 "nbformat_minor": 2
}
